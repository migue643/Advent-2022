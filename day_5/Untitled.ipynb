{
 "cells": [
  {
   "cell_type": "markdown",
   "id": "6aa2feba",
   "metadata": {},
   "source": [
    "# Advent of code day 5"
   ]
  },
  {
   "cell_type": "code",
   "execution_count": 20,
   "id": "35d4c964",
   "metadata": {},
   "outputs": [],
   "source": [
    "import numpy as np"
   ]
  },
  {
   "cell_type": "code",
   "execution_count": 63,
   "id": "1a7d7d06",
   "metadata": {},
   "outputs": [],
   "source": [
    "instructions = \"\"\"move 7 from 3 to 9\n",
    "move 5 from 8 to 9\n",
    "move 3 from 9 to 5\n",
    "move 6 from 9 to 2\n",
    "move 9 from 9 to 3\n",
    "move 3 from 7 to 3\n",
    "move 8 from 2 to 3\n",
    "move 9 from 3 to 1\n",
    "move 11 from 3 to 8\n",
    "move 5 from 6 to 9\n",
    "move 1 from 6 to 3\n",
    "move 1 from 2 to 7\n",
    "move 1 from 4 to 8\n",
    "move 1 from 3 to 9\n",
    "move 4 from 4 to 3\n",
    "move 6 from 8 to 3\n",
    "move 2 from 8 to 2\n",
    "move 4 from 9 to 3\n",
    "move 3 from 2 to 5\n",
    "move 2 from 5 to 4\n",
    "move 5 from 3 to 4\n",
    "move 11 from 1 to 4\n",
    "move 1 from 7 to 6\n",
    "move 1 from 3 to 5\n",
    "move 2 from 1 to 9\n",
    "move 1 from 1 to 4\n",
    "move 7 from 5 to 8\n",
    "move 21 from 4 to 6\n",
    "move 6 from 6 to 2\n",
    "move 6 from 8 to 9\n",
    "move 5 from 8 to 5\n",
    "move 2 from 2 to 7\n",
    "move 4 from 3 to 7\n",
    "move 1 from 2 to 6\n",
    "move 1 from 2 to 5\n",
    "move 2 from 2 to 7\n",
    "move 4 from 3 to 7\n",
    "move 1 from 4 to 6\n",
    "move 9 from 5 to 3\n",
    "move 7 from 3 to 4\n",
    "move 7 from 7 to 3\n",
    "move 7 from 4 to 1\n",
    "move 8 from 3 to 5\n",
    "move 1 from 3 to 5\n",
    "move 3 from 8 to 2\n",
    "move 2 from 2 to 9\n",
    "move 13 from 9 to 4\n",
    "move 5 from 5 to 3\n",
    "move 4 from 7 to 6\n",
    "move 1 from 7 to 4\n",
    "move 2 from 4 to 2\n",
    "move 3 from 3 to 4\n",
    "move 2 from 5 to 2\n",
    "move 6 from 1 to 7\n",
    "move 1 from 2 to 8\n",
    "move 1 from 3 to 8\n",
    "move 1 from 1 to 6\n",
    "move 1 from 3 to 4\n",
    "move 1 from 2 to 6\n",
    "move 24 from 6 to 1\n",
    "move 3 from 2 to 3\n",
    "move 3 from 3 to 5\n",
    "move 2 from 8 to 6\n",
    "move 2 from 5 to 4\n",
    "move 3 from 5 to 1\n",
    "move 7 from 4 to 8\n",
    "move 3 from 8 to 9\n",
    "move 2 from 9 to 5\n",
    "move 2 from 6 to 3\n",
    "move 1 from 9 to 8\n",
    "move 5 from 7 to 5\n",
    "move 2 from 3 to 1\n",
    "move 1 from 7 to 1\n",
    "move 7 from 4 to 7\n",
    "move 2 from 4 to 8\n",
    "move 6 from 8 to 6\n",
    "move 3 from 6 to 9\n",
    "move 10 from 5 to 1\n",
    "move 7 from 7 to 1\n",
    "move 1 from 4 to 9\n",
    "move 1 from 6 to 3\n",
    "move 2 from 9 to 7\n",
    "move 1 from 4 to 2\n",
    "move 1 from 9 to 5\n",
    "move 1 from 8 to 5\n",
    "move 39 from 1 to 8\n",
    "move 1 from 2 to 5\n",
    "move 2 from 6 to 9\n",
    "move 3 from 9 to 5\n",
    "move 3 from 1 to 6\n",
    "move 1 from 7 to 2\n",
    "move 1 from 3 to 2\n",
    "move 2 from 6 to 2\n",
    "move 3 from 2 to 3\n",
    "move 1 from 6 to 2\n",
    "move 1 from 1 to 8\n",
    "move 3 from 1 to 2\n",
    "move 3 from 2 to 4\n",
    "move 2 from 4 to 5\n",
    "move 2 from 3 to 8\n",
    "move 8 from 5 to 2\n",
    "move 8 from 8 to 2\n",
    "move 15 from 2 to 7\n",
    "move 1 from 1 to 5\n",
    "move 25 from 8 to 7\n",
    "move 2 from 2 to 4\n",
    "move 2 from 4 to 3\n",
    "move 1 from 8 to 4\n",
    "move 2 from 4 to 6\n",
    "move 1 from 2 to 1\n",
    "move 26 from 7 to 2\n",
    "move 15 from 2 to 1\n",
    "move 7 from 8 to 9\n",
    "move 10 from 1 to 6\n",
    "move 10 from 7 to 2\n",
    "move 1 from 8 to 1\n",
    "move 5 from 9 to 8\n",
    "move 1 from 8 to 9\n",
    "move 2 from 6 to 9\n",
    "move 3 from 7 to 1\n",
    "move 1 from 7 to 1\n",
    "move 5 from 9 to 2\n",
    "move 1 from 3 to 1\n",
    "move 9 from 6 to 3\n",
    "move 1 from 6 to 1\n",
    "move 4 from 2 to 4\n",
    "move 3 from 4 to 8\n",
    "move 1 from 4 to 1\n",
    "move 9 from 3 to 1\n",
    "move 1 from 7 to 6\n",
    "move 9 from 2 to 5\n",
    "move 14 from 1 to 6\n",
    "move 1 from 3 to 8\n",
    "move 5 from 2 to 6\n",
    "move 8 from 1 to 8\n",
    "move 6 from 6 to 8\n",
    "move 14 from 6 to 7\n",
    "move 1 from 1 to 7\n",
    "move 10 from 5 to 4\n",
    "move 11 from 8 to 5\n",
    "move 15 from 7 to 1\n",
    "move 4 from 5 to 6\n",
    "move 4 from 8 to 9\n",
    "move 6 from 5 to 3\n",
    "move 1 from 6 to 9\n",
    "move 1 from 1 to 6\n",
    "move 1 from 5 to 8\n",
    "move 2 from 6 to 2\n",
    "move 6 from 1 to 5\n",
    "move 1 from 5 to 8\n",
    "move 2 from 5 to 4\n",
    "move 9 from 2 to 9\n",
    "move 13 from 9 to 8\n",
    "move 1 from 2 to 1\n",
    "move 1 from 4 to 8\n",
    "move 3 from 3 to 1\n",
    "move 2 from 4 to 5\n",
    "move 2 from 1 to 5\n",
    "move 1 from 9 to 3\n",
    "move 17 from 8 to 1\n",
    "move 3 from 3 to 2\n",
    "move 4 from 5 to 1\n",
    "move 2 from 2 to 4\n",
    "move 1 from 6 to 1\n",
    "move 1 from 2 to 8\n",
    "move 4 from 4 to 6\n",
    "move 1 from 5 to 9\n",
    "move 5 from 6 to 8\n",
    "move 1 from 5 to 4\n",
    "move 1 from 5 to 6\n",
    "move 3 from 8 to 6\n",
    "move 8 from 4 to 5\n",
    "move 32 from 1 to 7\n",
    "move 11 from 7 to 6\n",
    "move 8 from 5 to 3\n",
    "move 3 from 8 to 7\n",
    "move 6 from 3 to 9\n",
    "move 4 from 3 to 8\n",
    "move 5 from 8 to 2\n",
    "move 1 from 8 to 5\n",
    "move 11 from 6 to 3\n",
    "move 1 from 5 to 2\n",
    "move 2 from 8 to 6\n",
    "move 12 from 7 to 8\n",
    "move 2 from 6 to 2\n",
    "move 2 from 6 to 4\n",
    "move 5 from 2 to 5\n",
    "move 8 from 7 to 2\n",
    "move 2 from 7 to 1\n",
    "move 2 from 7 to 6\n",
    "move 5 from 5 to 4\n",
    "move 5 from 4 to 7\n",
    "move 5 from 8 to 2\n",
    "move 2 from 9 to 7\n",
    "move 5 from 8 to 4\n",
    "move 2 from 7 to 3\n",
    "move 2 from 9 to 3\n",
    "move 3 from 7 to 9\n",
    "move 1 from 1 to 8\n",
    "move 2 from 6 to 1\n",
    "move 2 from 9 to 8\n",
    "move 1 from 7 to 8\n",
    "move 1 from 2 to 5\n",
    "move 1 from 7 to 9\n",
    "move 7 from 4 to 3\n",
    "move 3 from 3 to 6\n",
    "move 5 from 8 to 6\n",
    "move 3 from 9 to 5\n",
    "move 16 from 3 to 1\n",
    "move 2 from 9 to 1\n",
    "move 7 from 1 to 8\n",
    "move 1 from 1 to 2\n",
    "move 5 from 8 to 2\n",
    "move 12 from 1 to 4\n",
    "move 1 from 3 to 5\n",
    "move 1 from 2 to 9\n",
    "move 1 from 9 to 4\n",
    "move 4 from 6 to 5\n",
    "move 5 from 6 to 1\n",
    "move 1 from 6 to 5\n",
    "move 1 from 1 to 4\n",
    "move 1 from 4 to 7\n",
    "move 1 from 3 to 7\n",
    "move 9 from 4 to 6\n",
    "move 2 from 7 to 8\n",
    "move 1 from 3 to 4\n",
    "move 2 from 8 to 9\n",
    "move 4 from 8 to 4\n",
    "move 4 from 2 to 8\n",
    "move 2 from 9 to 7\n",
    "move 2 from 7 to 8\n",
    "move 10 from 2 to 4\n",
    "move 1 from 2 to 1\n",
    "move 5 from 4 to 7\n",
    "move 1 from 1 to 3\n",
    "move 3 from 8 to 7\n",
    "move 6 from 7 to 2\n",
    "move 3 from 2 to 7\n",
    "move 1 from 6 to 7\n",
    "move 5 from 5 to 8\n",
    "move 4 from 1 to 3\n",
    "move 4 from 3 to 1\n",
    "move 8 from 4 to 2\n",
    "move 1 from 3 to 2\n",
    "move 2 from 7 to 2\n",
    "move 2 from 6 to 3\n",
    "move 4 from 7 to 2\n",
    "move 4 from 5 to 7\n",
    "move 14 from 2 to 7\n",
    "move 3 from 2 to 1\n",
    "move 3 from 8 to 2\n",
    "move 1 from 5 to 7\n",
    "move 6 from 2 to 4\n",
    "move 2 from 2 to 7\n",
    "move 2 from 3 to 6\n",
    "move 6 from 8 to 2\n",
    "move 4 from 6 to 4\n",
    "move 2 from 6 to 9\n",
    "move 4 from 4 to 2\n",
    "move 2 from 4 to 8\n",
    "move 10 from 7 to 2\n",
    "move 18 from 2 to 6\n",
    "move 2 from 2 to 6\n",
    "move 2 from 9 to 2\n",
    "move 2 from 8 to 5\n",
    "move 1 from 2 to 9\n",
    "move 1 from 2 to 9\n",
    "move 1 from 5 to 7\n",
    "move 1 from 2 to 6\n",
    "move 2 from 9 to 2\n",
    "move 6 from 7 to 3\n",
    "move 7 from 6 to 8\n",
    "move 5 from 7 to 2\n",
    "move 1 from 7 to 4\n",
    "move 1 from 5 to 7\n",
    "move 4 from 8 to 7\n",
    "move 5 from 2 to 3\n",
    "move 1 from 7 to 5\n",
    "move 2 from 2 to 8\n",
    "move 9 from 4 to 3\n",
    "move 13 from 6 to 8\n",
    "move 10 from 3 to 1\n",
    "move 1 from 5 to 2\n",
    "move 3 from 6 to 8\n",
    "move 5 from 1 to 2\n",
    "move 1 from 1 to 8\n",
    "move 2 from 4 to 3\n",
    "move 17 from 8 to 6\n",
    "move 5 from 6 to 3\n",
    "move 3 from 1 to 2\n",
    "move 9 from 6 to 5\n",
    "move 2 from 6 to 8\n",
    "move 5 from 5 to 9\n",
    "move 3 from 9 to 8\n",
    "move 3 from 1 to 3\n",
    "move 3 from 7 to 5\n",
    "move 6 from 5 to 8\n",
    "move 7 from 2 to 4\n",
    "move 1 from 6 to 3\n",
    "move 1 from 1 to 5\n",
    "move 4 from 4 to 5\n",
    "move 2 from 2 to 9\n",
    "move 3 from 1 to 3\n",
    "move 4 from 5 to 8\n",
    "move 1 from 4 to 5\n",
    "move 6 from 8 to 7\n",
    "move 1 from 5 to 2\n",
    "move 4 from 9 to 2\n",
    "move 2 from 5 to 9\n",
    "move 2 from 1 to 8\n",
    "move 2 from 4 to 9\n",
    "move 6 from 7 to 5\n",
    "move 3 from 5 to 2\n",
    "move 3 from 2 to 5\n",
    "move 10 from 8 to 3\n",
    "move 2 from 8 to 5\n",
    "move 3 from 2 to 5\n",
    "move 6 from 5 to 1\n",
    "move 4 from 5 to 6\n",
    "move 1 from 7 to 5\n",
    "move 23 from 3 to 7\n",
    "move 2 from 5 to 9\n",
    "move 2 from 1 to 5\n",
    "move 2 from 6 to 3\n",
    "move 6 from 3 to 1\n",
    "move 1 from 1 to 7\n",
    "move 4 from 3 to 1\n",
    "move 1 from 8 to 5\n",
    "move 2 from 9 to 2\n",
    "move 3 from 3 to 8\n",
    "move 2 from 6 to 8\n",
    "move 12 from 1 to 3\n",
    "move 1 from 9 to 7\n",
    "move 3 from 5 to 9\n",
    "move 9 from 3 to 8\n",
    "move 1 from 1 to 7\n",
    "move 1 from 9 to 4\n",
    "move 3 from 3 to 6\n",
    "move 3 from 2 to 1\n",
    "move 3 from 8 to 6\n",
    "move 1 from 4 to 2\n",
    "move 1 from 2 to 9\n",
    "move 1 from 2 to 7\n",
    "move 20 from 7 to 5\n",
    "move 3 from 7 to 3\n",
    "move 3 from 1 to 3\n",
    "move 5 from 8 to 1\n",
    "move 5 from 1 to 5\n",
    "move 4 from 5 to 2\n",
    "move 3 from 2 to 6\n",
    "move 3 from 8 to 7\n",
    "move 1 from 2 to 6\n",
    "move 2 from 8 to 6\n",
    "move 2 from 7 to 5\n",
    "move 2 from 3 to 6\n",
    "move 12 from 5 to 1\n",
    "move 6 from 5 to 7\n",
    "move 12 from 6 to 8\n",
    "move 4 from 9 to 3\n",
    "move 4 from 5 to 8\n",
    "move 3 from 1 to 5\n",
    "move 4 from 7 to 4\n",
    "move 3 from 5 to 9\n",
    "move 7 from 1 to 6\n",
    "move 1 from 1 to 3\n",
    "move 6 from 7 to 6\n",
    "move 1 from 1 to 3\n",
    "move 10 from 3 to 6\n",
    "move 10 from 6 to 2\n",
    "move 2 from 9 to 5\n",
    "move 4 from 6 to 5\n",
    "move 9 from 6 to 1\n",
    "move 16 from 8 to 7\n",
    "move 3 from 8 to 7\n",
    "move 1 from 8 to 1\n",
    "move 7 from 2 to 1\n",
    "move 1 from 5 to 9\n",
    "move 1 from 6 to 1\n",
    "move 2 from 2 to 1\n",
    "move 3 from 1 to 4\n",
    "move 1 from 6 to 8\n",
    "move 7 from 4 to 1\n",
    "move 1 from 8 to 2\n",
    "move 22 from 1 to 8\n",
    "move 18 from 7 to 9\n",
    "move 6 from 5 to 2\n",
    "move 2 from 2 to 7\n",
    "move 2 from 1 to 5\n",
    "move 4 from 7 to 6\n",
    "move 1 from 5 to 6\n",
    "move 2 from 8 to 2\n",
    "move 3 from 2 to 6\n",
    "move 1 from 5 to 6\n",
    "move 15 from 9 to 6\n",
    "move 6 from 9 to 5\n",
    "move 1 from 9 to 8\n",
    "move 1 from 2 to 9\n",
    "move 5 from 5 to 9\n",
    "move 9 from 8 to 6\n",
    "move 3 from 2 to 7\n",
    "move 12 from 8 to 9\n",
    "move 1 from 7 to 5\n",
    "move 1 from 5 to 7\n",
    "move 3 from 7 to 1\n",
    "move 17 from 6 to 3\n",
    "move 1 from 2 to 6\n",
    "move 2 from 1 to 4\n",
    "move 16 from 6 to 4\n",
    "move 7 from 4 to 6\n",
    "move 1 from 5 to 7\n",
    "move 8 from 4 to 5\n",
    "move 9 from 9 to 8\n",
    "move 16 from 3 to 7\n",
    "move 1 from 1 to 5\n",
    "move 3 from 5 to 1\n",
    "move 5 from 6 to 2\n",
    "move 3 from 1 to 7\n",
    "move 3 from 6 to 7\n",
    "move 3 from 9 to 3\n",
    "move 5 from 8 to 5\n",
    "move 11 from 5 to 7\n",
    "move 2 from 3 to 7\n",
    "move 1 from 2 to 1\n",
    "move 1 from 3 to 6\n",
    "move 17 from 7 to 9\n",
    "move 1 from 3 to 2\n",
    "move 3 from 4 to 6\n",
    "move 1 from 1 to 2\n",
    "move 1 from 6 to 4\n",
    "move 14 from 7 to 6\n",
    "move 15 from 9 to 6\n",
    "move 4 from 8 to 7\n",
    "move 1 from 4 to 7\n",
    "move 7 from 9 to 5\n",
    "move 5 from 2 to 9\n",
    "move 7 from 5 to 1\n",
    "move 3 from 1 to 7\n",
    "move 29 from 6 to 4\n",
    "move 1 from 2 to 4\n",
    "move 18 from 4 to 2\n",
    "move 3 from 1 to 4\n",
    "move 1 from 1 to 7\n",
    "move 18 from 2 to 4\n",
    "move 3 from 6 to 5\n",
    "move 15 from 4 to 1\n",
    "move 1 from 5 to 1\n",
    "move 1 from 5 to 4\n",
    "move 9 from 4 to 1\n",
    "move 5 from 1 to 3\n",
    "move 9 from 1 to 5\n",
    "move 2 from 4 to 3\n",
    "move 5 from 5 to 6\n",
    "move 3 from 7 to 9\n",
    "move 7 from 7 to 5\n",
    "move 6 from 4 to 6\n",
    "move 2 from 3 to 7\n",
    "move 6 from 5 to 8\n",
    "move 2 from 8 to 4\n",
    "move 1 from 8 to 9\n",
    "move 9 from 6 to 2\n",
    "move 3 from 9 to 3\n",
    "move 1 from 2 to 1\n",
    "move 6 from 7 to 4\n",
    "move 2 from 2 to 8\n",
    "move 3 from 9 to 5\n",
    "move 5 from 4 to 8\n",
    "move 1 from 6 to 9\n",
    "move 1 from 3 to 1\n",
    "move 1 from 3 to 4\n",
    "move 1 from 6 to 5\n",
    "move 1 from 9 to 3\n",
    "move 10 from 8 to 7\n",
    "move 3 from 9 to 2\n",
    "move 7 from 2 to 4\n",
    "move 6 from 5 to 7\n",
    "move 4 from 5 to 8\n",
    "move 7 from 3 to 2\n",
    "move 3 from 7 to 1\n",
    "move 9 from 1 to 5\n",
    "move 5 from 7 to 9\n",
    "move 7 from 1 to 4\n",
    "move 11 from 4 to 2\n",
    "move 4 from 8 to 3\n",
    "move 5 from 4 to 7\n",
    "move 4 from 4 to 1\n",
    "move 1 from 3 to 6\n",
    "move 12 from 7 to 4\n",
    "move 2 from 1 to 8\n",
    "move 5 from 9 to 7\n",
    "move 7 from 5 to 6\n",
    "move 1 from 1 to 4\n",
    "move 1 from 9 to 8\n",
    "move 1 from 4 to 7\n",
    "move 1 from 8 to 9\n",
    "move 5 from 7 to 9\n",
    "move 2 from 7 to 5\n",
    "move 2 from 6 to 3\n",
    "move 5 from 2 to 7\n",
    "move 1 from 7 to 8\n",
    "move 1 from 1 to 6\n",
    "move 3 from 5 to 1\"\"\""
   ]
  },
  {
   "cell_type": "markdown",
   "id": "311ccc30",
   "metadata": {},
   "source": [
    "            [L] [M]         [M]    \n",
    "        [D] [R] [Z]         [C] [L]\n",
    "        [C] [S] [T] [G]     [V] [M]\n",
    "[R]     [L] [Q] [B] [B]     [D] [F]\n",
    "[H] [B] [G] [D] [Q] [Z]     [T] [J]\n",
    "[M] [J] [H] [M] [P] [S] [V] [L] [N]\n",
    "[P] [C] [N] [T] [S] [F] [R] [G] [Q]\n",
    "[Z] [P] [S] [F] [F] [T] [N] [P] [W]"
   ]
  },
  {
   "cell_type": "code",
   "execution_count": 64,
   "id": "60a35c4b",
   "metadata": {},
   "outputs": [],
   "source": [
    "instructions = instructions.split(\"\\n\")"
   ]
  },
  {
   "cell_type": "code",
   "execution_count": 8,
   "id": "8d469686",
   "metadata": {},
   "outputs": [
    {
     "data": {
      "text/plain": [
       "'7'"
      ]
     },
     "execution_count": 8,
     "metadata": {},
     "output_type": "execute_result"
    }
   ],
   "source": [
    "instructions[0].split(\" \")[1]"
   ]
  },
  {
   "cell_type": "code",
   "execution_count": 65,
   "id": "6014f066",
   "metadata": {},
   "outputs": [],
   "source": [
    "# We split the instructions into lists of numbers so its easier to follow them\n",
    "ins = []\n",
    "temp = []\n",
    "for instruction in instructions:\n",
    "    ins.append([instruction.split(\" \")[1],instruction.split(\" \")[3],instruction.split(\" \")[5]])"
   ]
  },
  {
   "cell_type": "code",
   "execution_count": null,
   "id": "cd7aaa92",
   "metadata": {},
   "outputs": [],
   "source": []
  },
  {
   "cell_type": "code",
   "execution_count": 167,
   "id": "eb51d219",
   "metadata": {},
   "outputs": [],
   "source": [
    "crates = [[\"R\",\"H\",\"M\",'P','Z'],['B','J','C','P'],['D','C','L','G','H','N','S'],['L','R','S','Q','D','M','T','F'],['M','Z','T','B','Q','P','S','F'],['G','B','Z','S','F','T'],['V','R','N'],['M','C','V','D','T','L','G','P'],['L','M','F','J','N','Q','W'],]"
   ]
  },
  {
   "cell_type": "code",
   "execution_count": 54,
   "id": "ba652529",
   "metadata": {
    "scrolled": true
   },
   "outputs": [
    {
     "data": {
      "text/plain": [
       "['L', 'M', 'F', 'J', 'N', 'Q', 'W']"
      ]
     },
     "execution_count": 54,
     "metadata": {},
     "output_type": "execute_result"
    }
   ],
   "source": [
    "crates[8]"
   ]
  },
  {
   "cell_type": "code",
   "execution_count": 55,
   "id": "c87e7423",
   "metadata": {},
   "outputs": [
    {
     "data": {
      "text/plain": [
       "2"
      ]
     },
     "execution_count": 55,
     "metadata": {},
     "output_type": "execute_result"
    }
   ],
   "source": [
    "int(ins[2][0])-1"
   ]
  },
  {
   "cell_type": "code",
   "execution_count": 168,
   "id": "a5e1623b",
   "metadata": {},
   "outputs": [],
   "source": [
    "for instruction in ins:\n",
    "    a = (int(instruction[2]))-1\n",
    "    b = int(instruction[1])-1\n",
    "    c = (int(instruction[0]))\n",
    "    temp = crates[b][:c]\n",
    "    temp.reverse()\n",
    "    crates[a] = temp + crates[a]\n",
    "    crates[b] = crates[b][c:]"
   ]
  },
  {
   "cell_type": "code",
   "execution_count": 169,
   "id": "cd28b952",
   "metadata": {},
   "outputs": [
    {
     "data": {
      "text/plain": [
       "[['V', 'G', 'D'],\n",
       " ['Q', 'F', 'R', 'M', 'S', 'V', 'C', 'M', 'T', 'B', 'C', 'T', 'Q', 'P', 'G'],\n",
       " ['Z', 'Z', 'M', 'S', 'P'],\n",
       " ['N', 'D', 'L', 'L', 'S', 'N', 'B', 'P', 'F', 'L', 'F', 'M'],\n",
       " ['J'],\n",
       " ['M', 'Q', 'L', 'Z', 'R', 'H', 'N'],\n",
       " ['W', 'C', 'P', 'H'],\n",
       " ['T', 'S', 'D'],\n",
       " ['R', 'T', 'B', 'F', 'J', 'G']]"
      ]
     },
     "execution_count": 169,
     "metadata": {},
     "output_type": "execute_result"
    }
   ],
   "source": [
    "crates"
   ]
  },
  {
   "cell_type": "code",
   "execution_count": 170,
   "id": "3a07d169",
   "metadata": {},
   "outputs": [],
   "source": [
    "lista = []\n",
    "for crate in crates:\n",
    "    lista.append(crate[0])"
   ]
  },
  {
   "cell_type": "code",
   "execution_count": 121,
   "id": "0811dc3b",
   "metadata": {},
   "outputs": [],
   "source": [
    "test_list = (crates[4][:3])"
   ]
  },
  {
   "cell_type": "code",
   "execution_count": 122,
   "id": "c4f4e4fe",
   "metadata": {},
   "outputs": [],
   "source": [
    "test_list.sort(reverse=True)"
   ]
  },
  {
   "cell_type": "code",
   "execution_count": 123,
   "id": "7b6f4419",
   "metadata": {},
   "outputs": [
    {
     "name": "stdout",
     "output_type": "stream",
     "text": [
      "['Z', 'T', 'M']\n"
     ]
    }
   ],
   "source": [
    "print(test_list)"
   ]
  },
  {
   "cell_type": "code",
   "execution_count": 165,
   "id": "0568c9e1",
   "metadata": {},
   "outputs": [],
   "source": [
    "temp = crates[4][:3]\n",
    "temp.reverse()\n",
    "crates[0] = temp + crates[0]\n",
    "crates[4] = crates[4][3:]"
   ]
  },
  {
   "cell_type": "code",
   "execution_count": 166,
   "id": "87a1e80d",
   "metadata": {},
   "outputs": [
    {
     "data": {
      "text/plain": [
       "[['T', 'Z', 'M', 'R', 'H', 'M', 'P', 'Z'],\n",
       " ['B', 'J', 'C', 'P'],\n",
       " ['D', 'C', 'L', 'G', 'H', 'N', 'S'],\n",
       " ['L', 'R', 'S', 'Q', 'D', 'M', 'T', 'F'],\n",
       " ['B', 'Q', 'S', 'F'],\n",
       " ['G', 'B', 'Z', 'S', 'F', 'T'],\n",
       " ['V', 'R', 'N'],\n",
       " ['M', 'C', 'V', 'D', 'T', 'L', 'G', 'P'],\n",
       " ['L', 'M', 'F', 'J', 'N', 'Q', 'W']]"
      ]
     },
     "execution_count": 166,
     "metadata": {},
     "output_type": "execute_result"
    }
   ],
   "source": [
    "crates"
   ]
  },
  {
   "cell_type": "code",
   "execution_count": 134,
   "id": "3ced0b3a",
   "metadata": {},
   "outputs": [
    {
     "data": {
      "text/plain": [
       "['Z', 'T', 'M']"
      ]
     },
     "execution_count": 134,
     "metadata": {},
     "output_type": "execute_result"
    }
   ],
   "source": [
    "temp"
   ]
  },
  {
   "cell_type": "code",
   "execution_count": 156,
   "id": "11d4ec10",
   "metadata": {},
   "outputs": [
    {
     "data": {
      "text/plain": [
       "[['R', 'H', 'M', 'P', 'Z'],\n",
       " ['B', 'J', 'C', 'P'],\n",
       " ['D', 'C', 'L', 'G', 'H', 'N', 'S'],\n",
       " ['L', 'R', 'S', 'Q', 'D', 'M', 'T', 'F'],\n",
       " ['M', 'Z', 'T', 'B', 'Q', 'S', 'F'],\n",
       " ['G', 'B', 'Z', 'S', 'F', 'T'],\n",
       " ['V', 'R', 'N'],\n",
       " ['M', 'C', 'V', 'D', 'T', 'L', 'G', 'P'],\n",
       " ['L', 'M', 'F', 'J', 'N', 'Q', 'W']]"
      ]
     },
     "execution_count": 156,
     "metadata": {},
     "output_type": "execute_result"
    }
   ],
   "source": [
    "crates"
   ]
  },
  {
   "cell_type": "code",
   "execution_count": 171,
   "id": "51055b8c",
   "metadata": {},
   "outputs": [
    {
     "data": {
      "text/plain": [
       "['V', 'Q', 'Z', 'N', 'J', 'M', 'W', 'T', 'R']"
      ]
     },
     "execution_count": 171,
     "metadata": {},
     "output_type": "execute_result"
    }
   ],
   "source": [
    "lista"
   ]
  },
  {
   "cell_type": "code",
   "execution_count": 172,
   "id": "71981a0c",
   "metadata": {},
   "outputs": [],
   "source": [
    "crates = [[\"R\",\"H\",\"M\",'P','Z'],['B','J','C','P'],['D','C','L','G','H','N','S'],['L','R','S','Q','D','M','T','F'],['M','Z','T','B','Q','P','S','F'],['G','B','Z','S','F','T'],['V','R','N'],['M','C','V','D','T','L','G','P'],['L','M','F','J','N','Q','W'],]"
   ]
  },
  {
   "cell_type": "code",
   "execution_count": 173,
   "id": "6b126079",
   "metadata": {},
   "outputs": [],
   "source": [
    "for instruction in ins:\n",
    "    a = (int(instruction[2]))-1\n",
    "    b = int(instruction[1])-1\n",
    "    c = (int(instruction[0]))\n",
    "    crates[a] = crates[b][:c] + crates[a]\n",
    "    crates[b] = crates[b][c:]"
   ]
  },
  {
   "cell_type": "code",
   "execution_count": 174,
   "id": "9bcb773c",
   "metadata": {},
   "outputs": [],
   "source": [
    "lista = []\n",
    "for crate in crates:\n",
    "    lista.append(crate[0])"
   ]
  },
  {
   "cell_type": "code",
   "execution_count": 175,
   "id": "20f2fed5",
   "metadata": {},
   "outputs": [
    {
     "data": {
      "text/plain": [
       "['N', 'L', 'C', 'D', 'C', 'L', 'V', 'M', 'Q']"
      ]
     },
     "execution_count": 175,
     "metadata": {},
     "output_type": "execute_result"
    }
   ],
   "source": [
    "lista"
   ]
  },
  {
   "cell_type": "code",
   "execution_count": null,
   "id": "5a666b86",
   "metadata": {},
   "outputs": [],
   "source": []
  }
 ],
 "metadata": {
  "kernelspec": {
   "display_name": "Python 3 (ipykernel)",
   "language": "python",
   "name": "python3"
  },
  "language_info": {
   "codemirror_mode": {
    "name": "ipython",
    "version": 3
   },
   "file_extension": ".py",
   "mimetype": "text/x-python",
   "name": "python",
   "nbconvert_exporter": "python",
   "pygments_lexer": "ipython3",
   "version": "3.10.6"
  },
  "toc": {
   "base_numbering": 1,
   "nav_menu": {},
   "number_sections": true,
   "sideBar": true,
   "skip_h1_title": false,
   "title_cell": "Table of Contents",
   "title_sidebar": "Contents",
   "toc_cell": false,
   "toc_position": {},
   "toc_section_display": true,
   "toc_window_display": false
  }
 },
 "nbformat": 4,
 "nbformat_minor": 5
}
